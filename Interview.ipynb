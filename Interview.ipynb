{
  "metadata": {
    "language_info": {
      "codemirror_mode": {
        "name": "python",
        "version": 3
      },
      "file_extension": ".py",
      "mimetype": "text/x-python",
      "name": "python",
      "nbconvert_exporter": "python",
      "pygments_lexer": "ipython3",
      "version": "3.8"
    },
    "kernelspec": {
      "name": "python",
      "display_name": "Python (Pyodide)",
      "language": "python"
    }
  },
  "nbformat_minor": 4,
  "nbformat": 4,
  "cells": [
    {
      "cell_type": "code",
      "source": "# Q1) What is Python?\n# ---->Python is an interpreted scripting language that is known for its power, interactivity, and object-oriented nature. It utilizes English keywords extensively and has a simpler syntax compared to many other programming languages.",
      "metadata": {},
      "execution_count": null,
      "outputs": []
    },
    {
      "cell_type": "code",
      "source": "# Q2) How is memory managed in python?\n# ----> a)Python makes use of automatic memory management through garbage collection.\n#       b)The garbage collector keeps track of objects and frees memory when they are no longer in use.\n#       c)A cyclic garbage collector handles objects with circular references.\n#       d)Python also provides tools like context managers and the “with” statement to release resources automatically.\n#       e)Python’s memory management simplifies coding by handling memory allocation and deallocation automatically.",
      "metadata": {},
      "execution_count": null,
      "outputs": []
    },
    {
      "cell_type": "code",
      "source": "# Q3) What are Python Modules?\n# ----> Files containing Python codes are referred to as Python modules. This code can  be of different types like classes, functions, or variables. This saves the programmer’s time by providing predefined functionalities when needed. It is a file with “.py” extension containing an executable code.",
      "metadata": {},
      "execution_count": null,
      "outputs": []
    },
    {
      "cell_type": "code",
      "source": "# Q4)  What is a dictionary in Python?\n# ----> Python supports various data types, including dictionaries. A dictionary in Python is a collection of elements that are stored as key-value pairs. It is an unordered data structure, and the indexing is done based on the keys assigned to each element. Let’s consider an example: we have a dictionary named ‘dict’ with two keys, ‘Country’ and ‘Capital’, which have corresponding values ‘India’ and ‘New Delhi’, respectively.\n#       Syntax :\ndict={'Country':'India','Capital':'New Delhi' }\nprint(dict)\n#       Output :  Country: India, Capital: New Delhi",
      "metadata": {
        "trusted": true
      },
      "execution_count": 8,
      "outputs": [
        {
          "name": "stdout",
          "text": "{'Country': 'India', 'Capital': 'New Delhi'}\n",
          "output_type": "stream"
        }
      ]
    },
    {
      "cell_type": "code",
      "source": "# Q5)  What is __init__ in Python?\n# ----> In Python classes, the reserved method init serves a similar purpose as constructors in object-oriented programming (OOP) terminology. When a new object is created, the init method is automatically called, initializing the object and allocating memory for it. This method can also be utilized to set initial values for variables.\n#      eg: \nclass Human:\n    def __init__(self, age):\n        self.age = age\n    def say(self):\n        print('Hello, my age is', self.age)\nh = Human(22)\nh.say()\n# Output : Hello, my age is 22",
      "metadata": {
        "trusted": true
      },
      "execution_count": 4,
      "outputs": [
        {
          "name": "stdout",
          "text": "Hello, my age is 22\n",
          "output_type": "stream"
        }
      ]
    },
    {
      "cell_type": "code",
      "source": "# Q6) What are the common built-in data types in Python?\n# -----> Immutable data types:\n\nNumber\nString\nTuple\n#    Mutable data types:\nList\nDictionary\nset",
      "metadata": {},
      "execution_count": null,
      "outputs": []
    },
    {
      "cell_type": "code",
      "source": "# Q7) What does len() do?\n# ----> len() is an inbuilt function used to calculate the length of sequences like list, python string, and array.\nmy_list = [1, 2, 3, 4, 5]\nlength = len(my_list)\nprint(length)",
      "metadata": {
        "trusted": true
      },
      "execution_count": 10,
      "outputs": [
        {
          "name": "stdout",
          "text": "5\n",
          "output_type": "stream"
        }
      ]
    },
    {
      "cell_type": "code",
      "source": "# Q8) What are local variables and global variables in Python?\n# ----> A local variable is a variable that is defined within a specific function and is only accessible within that function. It cannot be accessed by other functions within the program.\n\n# In contrast, a global variable is a variable that is declared outside of any function, allowing it to be accessed by all functions in the program",
      "metadata": {},
      "execution_count": null,
      "outputs": []
    },
    {
      "cell_type": "code",
      "source": "# Q9)What is type conversion in Python?\n# ----> Python offers a valuable feature that allows for the conversion of data types as needed. This process is referred to as type conversion in Python.\n\n# Type conversion can be divided into two types:\n\n# Implicit Type Conversion: This type of conversion is automatically performed by the Python interpreter without requiring any user intervention.\n\n# Explicit Type Conversion: This type of conversion involves the user explicitly changing the data type to the desired type.",
      "metadata": {},
      "execution_count": null,
      "outputs": []
    },
    {
      "cell_type": "code",
      "source": "# Q10)Is python case sensitive?\n# ----> Yes, Python is a case sensitive language. In Python, it is important to note that “Function” and “function” are distinct entities, similar to how SQL and Pascal handle them differently.",
      "metadata": {},
      "execution_count": null,
      "outputs": []
    },
    {
      "cell_type": "code",
      "source": "# Q11) What are decorators?\n# ----> In Python, decorators serve as essential functions that enable the addition of functionality to an already existing function without altering its structure. These decorators are denoted by the @decorator_name syntax in Python and are invoked in a bottom-up manner.\n#      eg:\ndef decorator_lowercase(function):   # defining a Python decorator\n    def wrapper():\n        result = function()\n        result_lowercase = result.lower()\n        return result_lowercase\n    return wrapper\n@decorator_lowercase ## calling the decorator\ndef intro():                     # Normal function\n    return 'Hello, I AM SAM'\n\nprint(intro())",
      "metadata": {
        "trusted": true
      },
      "execution_count": 9,
      "outputs": [
        {
          "name": "stdout",
          "text": "hello, i am sam\n",
          "output_type": "stream"
        }
      ]
    },
    {
      "cell_type": "code",
      "source": "# Q12)  How does break, continue, and pass work?\n# ----> Python break: This statement aids in discontinuing the loop or the statement and transferring control to the subsequent statement.\n#       Python continue: This statement enforces the execution of the subsequent iteration when a particular condition is met, instead of terminating it.\n#       Python pass: This statement allows the syntactical writing of code while intending to bypass its execution. It is also recognized as a null operation, as no action is taken when the pass statement is executed.",
      "metadata": {},
      "execution_count": null,
      "outputs": []
    },
    {
      "cell_type": "code",
      "source": "# Q13) What type of language is python? Programming or scripting?\n# ----> Python is a versatile programming language that excels not only as a general-purpose language but also as a scripting tool.",
      "metadata": {},
      "execution_count": null,
      "outputs": []
    },
    {
      "cell_type": "code",
      "source": "# Q14) Explain split(), sub(), subn() methods of “re” module in Python?\n# ----> split(): This method is used to split a given string into a list.\n#       sub(): This method is used to find a substring where a regex pattern matches, and then it replaces the matched substring with a different string.\n#       subn(): This method is similar to the sub() method, but it returns the new string, along with the number of replacements.",
      "metadata": {},
      "execution_count": null,
      "outputs": []
    },
    {
      "cell_type": "code",
      "source": "# Q15) What is a map function in Python?\n# ----> The map() function in Python has two parameters, function and iterable. The map() function is a powerful tool that allows you to apply a specified function to every element within an iterable. It takes two arguments: the function you want to apply and the iterable containing the elements you want to process. This function is a versatile way to perform operations on multiple items simultaneously, making your code more efficient and concise",
      "metadata": {},
      "execution_count": null,
      "outputs": []
    },
    {
      "cell_type": "code",
      "source": "# Q16)  What are the generators in python?\n# ----> Generators in Python are special functions that can be used to create iterable objects. Unlike regular functions that return a value and then terminate, generators use the yield keyword to suspend execution temporarily and yield a value one at a time. This makes generators memory efficient as they don’t generate the entire sequence of values upfront but rather generate values on-demand.\n\n#       Generators are helpful when dealing with large datasets or when the complete sequence of values is not needed at once. They allow us to iterate over a potentially infinite sequence without consuming excessive memory.",
      "metadata": {},
      "execution_count": null,
      "outputs": []
    },
    {
      "cell_type": "code",
      "source": "# Q17)  Do we need to declare variables with respective data types in Python?\n# ----> No. Python is a dynamically typed language, i.e., the Python Interpreter automatically identifies the data type of a variable based on the type of value assigned.",
      "metadata": {},
      "execution_count": null,
      "outputs": []
    },
    {
      "cell_type": "code",
      "source": "# Q18)  Is multiple inheritance supported in Python?\n# ----> Yes , Python provides users with a range of support in terms of inheritance and its usage. Multiple inheritance refers to a scenario where a class is instantiated from more than one individual parent class. This provides a lot of functionality and advantages to users.",
      "metadata": {},
      "execution_count": null,
      "outputs": []
    },
    {
      "cell_type": "code",
      "source": "# Q19) What do file-related modules in Python do? Can you name some file-related modules in Python?\n# ----> Python comes with some file-related modules that have functions to manipulate text files and binary files in a file system. These modules can be used to create text or binary files, update content by carrying out operations like copy, delete, and more.\n\n#      Some file-related modules are os, os.path, and shutil.os. The os.path module has functions to access the file system, while the shutil.os module can be used to copy or delete files.",
      "metadata": {},
      "execution_count": null,
      "outputs": []
    },
    {
      "cell_type": "code",
      "source": "# Q20) How to add values to a python array?\n# ----> In python, adding elements in an array can be easily done with the help of extend(),append() and insert() functions.\n",
      "metadata": {
        "trusted": true
      },
      "execution_count": 12,
      "outputs": []
    },
    {
      "cell_type": "code",
      "source": "",
      "metadata": {},
      "execution_count": null,
      "outputs": []
    }
  ]
}